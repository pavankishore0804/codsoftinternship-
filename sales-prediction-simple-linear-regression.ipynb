{
 "cells": [
  {
   "cell_type": "markdown",
   "metadata": {
    "_uuid": "d98e260fd46b2018f8235d76d6b46d6e149ded86"
   },
   "source": [
    "# Sales Prediction\n"
   ]
  },
  {
   "cell_type": "code",
   "execution_count": null,
   "metadata": {
    "_uuid": "d68008018678c65564ddda5994cb05129f3ca72b",
    "execution": {
     "iopub.execute_input": "2023-09-14T15:24:14.538620Z",
     "iopub.status.busy": "2023-09-14T15:24:14.537855Z",
     "iopub.status.idle": "2023-09-14T15:24:15.335574Z",
     "shell.execute_reply": "2023-09-14T15:24:15.334419Z",
     "shell.execute_reply.started": "2023-09-14T15:24:14.538547Z"
    },
    "trusted": true
   },
   "outputs": [
    {
     "ename": "",
     "evalue": "",
     "output_type": "error",
     "traceback": [
      "\u001b[1;31mRunning cells with 'Python 3.11.9' requires the ipykernel package.\n",
      "\u001b[1;31mRun the following command to install 'ipykernel' into the Python environment. \n",
      "\u001b[1;31mCommand: '\"c:/Users/pavan kishore/AppData/Local/Microsoft/WindowsApps/python3.11.exe\" -m pip install ipykernel -U --user --force-reinstall'"
     ]
    }
   ],
   "source": [
    "import warnings\n",
    "warnings.filterwarnings('ignore')\n",
    "import numpy as np\n",
    "import pandas as pd\n",
    "import matplotlib.pyplot as plt \n",
    "import seaborn as sns"
   ]
  },
  {
   "cell_type": "code",
   "execution_count": null,
   "metadata": {
    "_uuid": "1365d38deb407ea9c0f4e93830c5f9d4d65ebd9d",
    "execution": {
     "iopub.execute_input": "2023-09-14T15:24:15.337616Z",
     "iopub.status.busy": "2023-09-14T15:24:15.337145Z",
     "iopub.status.idle": "2023-09-14T15:24:15.407085Z",
     "shell.execute_reply": "2023-09-14T15:24:15.405967Z",
     "shell.execute_reply.started": "2023-09-14T15:24:15.337565Z"
    },
    "trusted": true
   },
   "outputs": [],
   "source": [
    "advertising = pd.DataFrame(pd.read_csv(\"/Users/lohit/Downloads/advertising.csv\"))\n",
    "advertising.head()"
   ]
  },
  {
   "cell_type": "markdown",
   "metadata": {
    "_uuid": "39753c6695c9c1fb90e9d0bbbba0bf8c09b600c2"
   },
   "source": [
    "## Data Inspection"
   ]
  },
  {
   "cell_type": "code",
   "execution_count": null,
   "metadata": {
    "_uuid": "4f36948806d235d179b1a5c6b6c990a41afc6e4a",
    "execution": {
     "iopub.execute_input": "2023-09-14T15:24:15.409632Z",
     "iopub.status.busy": "2023-09-14T15:24:15.409325Z",
     "iopub.status.idle": "2023-09-14T15:24:15.416692Z",
     "shell.execute_reply": "2023-09-14T15:24:15.415491Z",
     "shell.execute_reply.started": "2023-09-14T15:24:15.409571Z"
    },
    "scrolled": true,
    "trusted": true
   },
   "outputs": [],
   "source": [
    "advertising.shape"
   ]
  },
  {
   "cell_type": "code",
   "execution_count": null,
   "metadata": {
    "_uuid": "9578033b7d507aa4d901b48de36931066cc00241",
    "execution": {
     "iopub.execute_input": "2023-09-14T15:24:15.418590Z",
     "iopub.status.busy": "2023-09-14T15:24:15.418267Z",
     "iopub.status.idle": "2023-09-14T15:24:15.438113Z",
     "shell.execute_reply": "2023-09-14T15:24:15.437133Z",
     "shell.execute_reply.started": "2023-09-14T15:24:15.418530Z"
    },
    "trusted": true
   },
   "outputs": [],
   "source": [
    "advertising.info()"
   ]
  },
  {
   "cell_type": "code",
   "execution_count": null,
   "metadata": {
    "_uuid": "b817b9601c376627448453b03d79bf8f9dd02eac",
    "execution": {
     "iopub.execute_input": "2023-09-14T15:24:15.440164Z",
     "iopub.status.busy": "2023-09-14T15:24:15.439614Z",
     "iopub.status.idle": "2023-09-14T15:24:15.487245Z",
     "shell.execute_reply": "2023-09-14T15:24:15.486307Z",
     "shell.execute_reply.started": "2023-09-14T15:24:15.440104Z"
    },
    "trusted": true
   },
   "outputs": [],
   "source": [
    "advertising.describe()"
   ]
  },
  {
   "cell_type": "markdown",
   "metadata": {
    "_uuid": "fab7463f8ed5eb55f1357db16c69204351295edf"
   },
   "source": [
    "## Data Cleaning"
   ]
  },
  {
   "cell_type": "code",
   "execution_count": null,
   "metadata": {
    "_uuid": "cf9580e58b78c0558d96f54272701b6d2d32a018",
    "execution": {
     "iopub.execute_input": "2023-09-14T15:24:15.490449Z",
     "iopub.status.busy": "2023-09-14T15:24:15.489779Z",
     "iopub.status.idle": "2023-09-14T15:24:15.599147Z",
     "shell.execute_reply": "2023-09-14T15:24:15.598235Z",
     "shell.execute_reply.started": "2023-09-14T15:24:15.490159Z"
    },
    "trusted": true
   },
   "outputs": [],
   "source": [
    "advertising.isnull().sum()*100/advertising.shape[1]\n"
   ]
  },
  {
   "cell_type": "code",
   "execution_count": null,
   "metadata": {
    "_uuid": "c427a8e8a84e617eccdeda7df5eccd25f740f25d",
    "execution": {
     "iopub.execute_input": "2023-09-14T15:24:15.601333Z",
     "iopub.status.busy": "2023-09-14T15:24:15.600979Z",
     "iopub.status.idle": "2023-09-14T15:24:16.287676Z",
     "shell.execute_reply": "2023-09-14T15:24:16.286431Z",
     "shell.execute_reply.started": "2023-09-14T15:24:15.601268Z"
    },
    "trusted": true
   },
   "outputs": [],
   "source": [
    "fig, axs = plt.subplots(4, figsize = (6,6))\n",
    "plt1 = sns.boxplot(advertising['TV'], ax = axs[0])\n",
    "plt2 = sns.boxplot(advertising['Newspaper'], ax = axs[1])\n",
    "plt3 = sns.boxplot(advertising['Radio'], ax = axs[2])\n",
    "plt.tight_layout()"
   ]
  },
  {
   "cell_type": "code",
   "execution_count": 8,
   "metadata": {
    "_uuid": "3f18bb0cc6014b12746f45ea30a7b769a59ad1a4",
    "execution": {
     "iopub.execute_input": "2023-09-14T15:24:16.291114Z",
     "iopub.status.busy": "2023-09-14T15:24:16.290225Z",
     "iopub.status.idle": "2023-09-14T15:24:16.297318Z",
     "shell.execute_reply": "2023-09-14T15:24:16.295932Z",
     "shell.execute_reply.started": "2023-09-14T15:24:16.291025Z"
    },
    "trusted": true
   },
   "outputs": [],
   "source": [
    "# There are no considerable outliers present in the data."
   ]
  },
  {
   "cell_type": "markdown",
   "metadata": {
    "_uuid": "81898c048d2b70a32615965535f9b7a6fdc626ae"
   },
   "source": [
    "## Exploratory Data Analysis"
   ]
  },
  {
   "cell_type": "code",
   "execution_count": null,
   "metadata": {
    "_uuid": "d435bd318677f7a4234bf02efdf54aa19e8b2c16",
    "execution": {
     "iopub.execute_input": "2023-09-14T15:24:16.299524Z",
     "iopub.status.busy": "2023-09-14T15:24:16.299055Z",
     "iopub.status.idle": "2023-09-14T15:24:16.563212Z",
     "shell.execute_reply": "2023-09-14T15:24:16.561575Z",
     "shell.execute_reply.started": "2023-09-14T15:24:16.299453Z"
    },
    "trusted": true
   },
   "outputs": [],
   "source": [
    "sns.boxplot(advertising['Radio'])\n",
    "plt.show()"
   ]
  },
  {
   "cell_type": "code",
   "execution_count": null,
   "metadata": {
    "_uuid": "2d6f716ebe182a58f9941c059256a09cc7f03703",
    "execution": {
     "iopub.execute_input": "2023-09-14T15:24:16.575213Z",
     "iopub.status.busy": "2023-09-14T15:24:16.570794Z",
     "iopub.status.idle": "2023-09-14T15:24:17.383113Z",
     "shell.execute_reply": "2023-09-14T15:24:17.381665Z",
     "shell.execute_reply.started": "2023-09-14T15:24:16.571707Z"
    },
    "trusted": true
   },
   "outputs": [],
   "source": [
    "\n",
    "sns.pairplot(advertising, x_vars=['TV', 'Newspaper', 'Radio'], y_vars='Sales', height=5, aspect=1, kind='scatter')\n",
    "plt.show()"
   ]
  },
  {
   "cell_type": "markdown",
   "metadata": {
    "_uuid": "1c10d5d48b611a9c66e1c99e66c44f6b36191a92"
   },
   "source": [
    "## Model Building"
   ]
  },
  {
   "cell_type": "code",
   "execution_count": 11,
   "metadata": {
    "_uuid": "ae7285c79fd678fad0ee4fb18f8923daf024838b",
    "execution": {
     "iopub.execute_input": "2023-09-14T15:24:17.779602Z",
     "iopub.status.busy": "2023-09-14T15:24:17.778542Z",
     "iopub.status.idle": "2023-09-14T15:24:17.786348Z",
     "shell.execute_reply": "2023-09-14T15:24:17.785082Z",
     "shell.execute_reply.started": "2023-09-14T15:24:17.779501Z"
    },
    "trusted": true
   },
   "outputs": [],
   "source": [
    "X = advertising['TV']\n",
    "y = advertising['Sales']"
   ]
  },
  {
   "cell_type": "code",
   "execution_count": 12,
   "metadata": {
    "_uuid": "997311202075aaa98631ef95c1a0d91cdbefa2af",
    "execution": {
     "iopub.execute_input": "2023-09-14T15:24:17.789746Z",
     "iopub.status.busy": "2023-09-14T15:24:17.788789Z",
     "iopub.status.idle": "2023-09-14T15:24:18.152853Z",
     "shell.execute_reply": "2023-09-14T15:24:18.151676Z",
     "shell.execute_reply.started": "2023-09-14T15:24:17.789638Z"
    },
    "trusted": true
   },
   "outputs": [],
   "source": [
    "from sklearn.model_selection import train_test_split\n",
    "X_train, X_test, y_train, y_test = train_test_split(X, y, train_size = 0.7, test_size = 0.3, random_state = 100)"
   ]
  },
  {
   "cell_type": "code",
   "execution_count": null,
   "metadata": {
    "_uuid": "07e568ebfdb6c838568e2df3dfd5fd0acadc7184",
    "execution": {
     "iopub.execute_input": "2023-09-14T15:24:18.155336Z",
     "iopub.status.busy": "2023-09-14T15:24:18.154780Z",
     "iopub.status.idle": "2023-09-14T15:24:18.165715Z",
     "shell.execute_reply": "2023-09-14T15:24:18.164555Z",
     "shell.execute_reply.started": "2023-09-14T15:24:18.155172Z"
    },
    "trusted": true
   },
   "outputs": [],
   "source": [
    "X_train.head()"
   ]
  },
  {
   "cell_type": "code",
   "execution_count": null,
   "metadata": {
    "_uuid": "873156cc1e983a63bfea8b5947bfb91e6992a7f5",
    "execution": {
     "iopub.execute_input": "2023-09-14T15:24:18.167943Z",
     "iopub.status.busy": "2023-09-14T15:24:18.167327Z",
     "iopub.status.idle": "2023-09-14T15:24:18.183592Z",
     "shell.execute_reply": "2023-09-14T15:24:18.181898Z",
     "shell.execute_reply.started": "2023-09-14T15:24:18.167873Z"
    },
    "trusted": true
   },
   "outputs": [],
   "source": [
    "y_train.head()"
   ]
  },
  {
   "cell_type": "code",
   "execution_count": 15,
   "metadata": {
    "_uuid": "226e3704ff6b78a47273fd816009f9c30b8f0a81",
    "execution": {
     "iopub.execute_input": "2023-09-14T15:24:18.186416Z",
     "iopub.status.busy": "2023-09-14T15:24:18.185473Z",
     "iopub.status.idle": "2023-09-14T15:24:18.838358Z",
     "shell.execute_reply": "2023-09-14T15:24:18.837082Z",
     "shell.execute_reply.started": "2023-09-14T15:24:18.186349Z"
    },
    "trusted": true
   },
   "outputs": [],
   "source": [
    "import statsmodels.api as sm"
   ]
  },
  {
   "cell_type": "code",
   "execution_count": 16,
   "metadata": {
    "_uuid": "b80a766082e6c9c40c3f09499fec4cfc51f62763",
    "execution": {
     "iopub.execute_input": "2023-09-14T15:24:18.840577Z",
     "iopub.status.busy": "2023-09-14T15:24:18.840213Z",
     "iopub.status.idle": "2023-09-14T15:24:18.867076Z",
     "shell.execute_reply": "2023-09-14T15:24:18.865667Z",
     "shell.execute_reply.started": "2023-09-14T15:24:18.840509Z"
    },
    "trusted": true
   },
   "outputs": [],
   "source": [
    "X_train_sm = sm.add_constant(X_train)\n",
    "pr = sm.OLS(y_train, X_train_sm).fit()"
   ]
  },
  {
   "cell_type": "code",
   "execution_count": null,
   "metadata": {
    "_uuid": "fd4287b550d2f05555ae3e18d6f497912424f8cf",
    "execution": {
     "iopub.execute_input": "2023-09-14T15:24:18.872792Z",
     "iopub.status.busy": "2023-09-14T15:24:18.872395Z",
     "iopub.status.idle": "2023-09-14T15:24:18.884679Z",
     "shell.execute_reply": "2023-09-14T15:24:18.883706Z",
     "shell.execute_reply.started": "2023-09-14T15:24:18.872716Z"
    },
    "trusted": true
   },
   "outputs": [],
   "source": [
    "pr.params"
   ]
  },
  {
   "cell_type": "code",
   "execution_count": null,
   "metadata": {
    "_uuid": "f841995801587a25a9b4c4b77ef396e538e9ad1f",
    "execution": {
     "iopub.execute_input": "2023-09-14T15:24:18.886590Z",
     "iopub.status.busy": "2023-09-14T15:24:18.886195Z",
     "iopub.status.idle": "2023-09-14T15:24:18.912959Z",
     "shell.execute_reply": "2023-09-14T15:24:18.911885Z",
     "shell.execute_reply.started": "2023-09-14T15:24:18.886514Z"
    },
    "trusted": true
   },
   "outputs": [],
   "source": [
    "print(pr.summary())"
   ]
  },
  {
   "cell_type": "markdown",
   "metadata": {
    "_uuid": "b4184f39c773af135644179ad6f86e9e75c3d7d5"
   },
   "source": [
    "####  Looking at some key statistics from the summary"
   ]
  },
  {
   "cell_type": "code",
   "execution_count": null,
   "metadata": {
    "_uuid": "6e0dc97a88b9fc1d4e975c2fe511e59bd0cd2b8a",
    "execution": {
     "iopub.execute_input": "2023-09-14T15:24:18.915032Z",
     "iopub.status.busy": "2023-09-14T15:24:18.914711Z",
     "iopub.status.idle": "2023-09-14T15:24:19.194708Z",
     "shell.execute_reply": "2023-09-14T15:24:19.193035Z",
     "shell.execute_reply.started": "2023-09-14T15:24:18.914967Z"
    },
    "scrolled": true,
    "trusted": true
   },
   "outputs": [],
   "source": [
    "plt.scatter(X_train, y_train)\n",
    "plt.plot(X_train, 6.954 + 0.054*X_train, 'r')\n",
    "plt.show()"
   ]
  },
  {
   "cell_type": "markdown",
   "metadata": {
    "_uuid": "b0127acdc8615bb40259e313f1d91e263091ce5c"
   },
   "source": [
    "## Model Evaluation"
   ]
  },
  {
   "cell_type": "code",
   "execution_count": 20,
   "metadata": {
    "_uuid": "4dd8f2238cf72ced822605fc50ceedc3451ef5af",
    "execution": {
     "iopub.execute_input": "2023-09-14T15:24:19.197544Z",
     "iopub.status.busy": "2023-09-14T15:24:19.196997Z",
     "iopub.status.idle": "2023-09-14T15:24:19.210130Z",
     "shell.execute_reply": "2023-09-14T15:24:19.208454Z",
     "shell.execute_reply.started": "2023-09-14T15:24:19.197463Z"
    },
    "trusted": true
   },
   "outputs": [],
   "source": [
    "y_train_pred = pr.predict(X_train_sm)\n",
    "res = (y_train - y_train_pred)"
   ]
  },
  {
   "cell_type": "code",
   "execution_count": null,
   "metadata": {
    "_uuid": "14e47df1dd16feb210ba45abe9bd16e583dacd88",
    "execution": {
     "iopub.execute_input": "2023-09-14T15:24:19.212766Z",
     "iopub.status.busy": "2023-09-14T15:24:19.212222Z",
     "iopub.status.idle": "2023-09-14T15:24:19.553742Z",
     "shell.execute_reply": "2023-09-14T15:24:19.552297Z",
     "shell.execute_reply.started": "2023-09-14T15:24:19.212676Z"
    },
    "scrolled": true,
    "trusted": true
   },
   "outputs": [],
   "source": [
    "fig = plt.figure()\n",
    "sns.distplot(res, bins = 16)\n",
    "fig.suptitle('Error Terms', fontsize = 16)                  \n",
    "plt.xlabel('y_train - y_train_pred', fontsize = 16)         \n",
    "plt.show()"
   ]
  },
  {
   "cell_type": "markdown",
   "metadata": {
    "_uuid": "21220e799147c77afe520b1eaf29664fca414fb5"
   },
   "source": [
    "#### Looking for patterns in the residuals"
   ]
  },
  {
   "cell_type": "code",
   "execution_count": null,
   "metadata": {
    "_uuid": "9273cbc44826c16c959a63707862371c9ff4301d",
    "execution": {
     "iopub.execute_input": "2023-09-14T15:24:19.557286Z",
     "iopub.status.busy": "2023-09-14T15:24:19.556236Z",
     "iopub.status.idle": "2023-09-14T15:24:19.817701Z",
     "shell.execute_reply": "2023-09-14T15:24:19.816893Z",
     "shell.execute_reply.started": "2023-09-14T15:24:19.557174Z"
    },
    "trusted": true
   },
   "outputs": [],
   "source": [
    "plt.scatter(X_train,res)\n",
    "plt.show()"
   ]
  },
  {
   "cell_type": "code",
   "execution_count": 23,
   "metadata": {
    "_uuid": "f0bed7ce820292dceee1c3b00b9ecbcb9fdbbd37",
    "execution": {
     "iopub.execute_input": "2023-09-14T15:24:19.819971Z",
     "iopub.status.busy": "2023-09-14T15:24:19.819270Z",
     "iopub.status.idle": "2023-09-14T15:24:19.830211Z",
     "shell.execute_reply": "2023-09-14T15:24:19.829439Z",
     "shell.execute_reply.started": "2023-09-14T15:24:19.819594Z"
    },
    "trusted": true
   },
   "outputs": [],
   "source": [
    "\n",
    "X_test_sm = sm.add_constant(X_test)\n",
    "y_pred = pr.predict(X_test_sm)"
   ]
  },
  {
   "cell_type": "code",
   "execution_count": null,
   "metadata": {
    "_uuid": "0b64c5e3173c685b0715a93f0a77c759e90b2dff",
    "execution": {
     "iopub.execute_input": "2023-09-14T15:24:19.832576Z",
     "iopub.status.busy": "2023-09-14T15:24:19.831907Z",
     "iopub.status.idle": "2023-09-14T15:24:19.846464Z",
     "shell.execute_reply": "2023-09-14T15:24:19.843824Z",
     "shell.execute_reply.started": "2023-09-14T15:24:19.832512Z"
    },
    "trusted": true
   },
   "outputs": [],
   "source": [
    "y_pred.head(5)"
   ]
  },
  {
   "cell_type": "code",
   "execution_count": 25,
   "metadata": {
    "_uuid": "f67e3bf11f1ab0670339d4496a4b42df11d1b0cf",
    "execution": {
     "iopub.execute_input": "2023-09-14T15:24:19.849364Z",
     "iopub.status.busy": "2023-09-14T15:24:19.848466Z",
     "iopub.status.idle": "2023-09-14T15:24:19.855543Z",
     "shell.execute_reply": "2023-09-14T15:24:19.854499Z",
     "shell.execute_reply.started": "2023-09-14T15:24:19.849295Z"
    },
    "trusted": true
   },
   "outputs": [],
   "source": [
    "from sklearn.metrics import mean_squared_error\n",
    "from sklearn.metrics import r2_score"
   ]
  },
  {
   "cell_type": "markdown",
   "metadata": {
    "_uuid": "743c7b8425082fbb0a6811f2405fb7a4c1fa5a1f"
   },
   "source": [
    "##### Visualizing the fit on the test set"
   ]
  },
  {
   "cell_type": "code",
   "execution_count": null,
   "metadata": {
    "_uuid": "eb08ac34d4e148e3221adfe126072f108adbfa24",
    "execution": {
     "iopub.execute_input": "2023-09-14T15:24:19.888384Z",
     "iopub.status.busy": "2023-09-14T15:24:19.887692Z",
     "iopub.status.idle": "2023-09-14T15:24:20.193077Z",
     "shell.execute_reply": "2023-09-14T15:24:20.191505Z",
     "shell.execute_reply.started": "2023-09-14T15:24:19.888333Z"
    },
    "scrolled": true,
    "trusted": true
   },
   "outputs": [],
   "source": [
    "plt.scatter(X_test, y_test)\n",
    "plt.plot(X_test, 6.954 + 0.054 * X_test, 'r')\n",
    "plt.show()"
   ]
  }
 ],
 "metadata": {
  "kernelspec": {
   "display_name": "Python 3",
   "language": "python",
   "name": "python3"
  },
  "language_info": {
   "codemirror_mode": {
    "name": "ipython",
    "version": 3
   },
   "file_extension": ".py",
   "mimetype": "text/x-python",
   "name": "python",
   "nbconvert_exporter": "python",
   "pygments_lexer": "ipython3",
   "version": "3.11.9"
  }
 },
 "nbformat": 4,
 "nbformat_minor": 4
}
